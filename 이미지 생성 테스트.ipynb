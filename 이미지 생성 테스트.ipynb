{
 "cells": [
  {
   "cell_type": "code",
   "execution_count": null,
   "metadata": {},
   "outputs": [
    {
     "name": "stderr",
     "output_type": "stream",
     "text": [
      "/Users/sonjuhyeon/Desktop/Stable Diffusion/stable_diffusion/lib/python3.10/site-packages/tqdm/auto.py:21: TqdmWarning: IProgress not found. Please update jupyter and ipywidgets. See https://ipywidgets.readthedocs.io/en/stable/user_install.html\n",
      "  from .autonotebook import tqdm as notebook_tqdm\n",
      "Loading pipeline components...:  14%|█▍        | 1/7 [00:00<00:01,  4.31it/s]`text_config_dict` is provided which will be used to initialize `CLIPTextConfig`. The value `text_config[\"id2label\"]` will be overriden.\n",
      "`text_config_dict` is provided which will be used to initialize `CLIPTextConfig`. The value `text_config[\"bos_token_id\"]` will be overriden.\n",
      "`text_config_dict` is provided which will be used to initialize `CLIPTextConfig`. The value `text_config[\"eos_token_id\"]` will be overriden.\n",
      "Loading pipeline components...: 100%|██████████| 7/7 [00:01<00:00,  4.81it/s]\n",
      "100%|██████████| 50/50 [06:41<00:00,  8.03s/it]\n"
     ]
    },
    {
     "name": "stdout",
     "output_type": "stream",
     "text": [
      "✅ 캐릭터 이미지 생성 완료! → img/20250324_194416.png\n"
     ]
    }
   ],
   "source": [
    "from diffusers import StableDiffusionPipeline\n",
    "import torch\n",
    "from datetime import datetime\n",
    "from pathlib import Path\n",
    "\n",
    "# 파이프라인 초기화\n",
    "pipe = StableDiffusionPipeline.from_pretrained(\n",
    "    \"runwayml/stable-diffusion-v1-5\",\n",
    "    torch_dtype=torch.float32\n",
    ")\n",
    "pipe = pipe.to(\"cpu\")\n",
    "\n",
    "# 프롬프트 설정\n",
    "prompt = \"a fantasy female character with silver hair, glowing eyes, wearing armor, in a magical forest, ultra detailed\"\n",
    "\n",
    "# 저장 디렉토리 & 파일명 생성\n",
    "img_dir = Path(\"img\")\n",
    "img_dir.mkdir(exist_ok=True)\n",
    "\n",
    "timestamp = datetime.now().strftime(\"%Y%m%d_%H%M%S\")\n",
    "file_name = f\"{timestamp}.png\"\n",
    "output_path = img_dir / file_name\n",
    "\n",
    "# 이미지 생성 및 저장\n",
    "image = pipe(prompt).images[0]\n",
    "image.save(output_path)\n",
    "\n",
    "print(\"캐릭터 이미지 생성 완료!\")"
   ]
  }
 ],
 "metadata": {
  "kernelspec": {
   "display_name": "stable_diffusion",
   "language": "python",
   "name": "python3"
  },
  "language_info": {
   "codemirror_mode": {
    "name": "ipython",
    "version": 3
   },
   "file_extension": ".py",
   "mimetype": "text/x-python",
   "name": "python",
   "nbconvert_exporter": "python",
   "pygments_lexer": "ipython3",
   "version": "3.10.11"
  }
 },
 "nbformat": 4,
 "nbformat_minor": 2
}
